{
 "cells": [
  {
   "cell_type": "code",
   "execution_count": 1,
   "metadata": {},
   "outputs": [],
   "source": [
    "import pandas as pd\n",
    "\n",
    "# To see more text\n",
    "pd.set_option('display.max_colwidth', None)\n",
    "pd.set_option(\"display.max_columns\", None)\n",
    "pd.set_option('display.max_rows', None)\n",
    "\n",
    "# So we don't have to re-load our custom fx py file each time we edit:\n",
    "%load_ext autoreload\n",
    "%autoreload 2\n",
    "\n",
    "import tidylopy.tidylopy  # tidylo function!"
   ]
  },
  {
   "cell_type": "code",
   "execution_count": 7,
   "metadata": {},
   "outputs": [],
   "source": [
    "# Load in data -- for simplicity, using same data in demonstration of tidylo\n",
    "# Aggregated it first in R so it's consistent \n",
    "data_path = os.path.normpath(os.getcwd() + os.sep + os.pardir) + '/example_data/'\n",
    "bigram_counts = pd.read_csv(data_path + 'bigram_counts_r.csv')\n",
    "bigram_log_odds_r = pd.read_csv(data_path + 'bigram_log_odds_r.csv')"
   ]
  },
  {
   "cell_type": "code",
   "execution_count": 9,
   "metadata": {},
   "outputs": [
    {
     "data": {
      "text/html": [
       "<div>\n",
       "<style scoped>\n",
       "    .dataframe tbody tr th:only-of-type {\n",
       "        vertical-align: middle;\n",
       "    }\n",
       "\n",
       "    .dataframe tbody tr th {\n",
       "        vertical-align: top;\n",
       "    }\n",
       "\n",
       "    .dataframe thead th {\n",
       "        text-align: right;\n",
       "    }\n",
       "</style>\n",
       "<table border=\"1\" class=\"dataframe\">\n",
       "  <thead>\n",
       "    <tr style=\"text-align: right;\">\n",
       "      <th></th>\n",
       "      <th>book</th>\n",
       "      <th>bigram</th>\n",
       "      <th>n</th>\n",
       "    </tr>\n",
       "  </thead>\n",
       "  <tbody>\n",
       "    <tr>\n",
       "      <th>0</th>\n",
       "      <td>Mansfield Park</td>\n",
       "      <td>of the</td>\n",
       "      <td>708</td>\n",
       "    </tr>\n",
       "    <tr>\n",
       "      <th>1</th>\n",
       "      <td>Mansfield Park</td>\n",
       "      <td>to be</td>\n",
       "      <td>582</td>\n",
       "    </tr>\n",
       "    <tr>\n",
       "      <th>2</th>\n",
       "      <td>Emma</td>\n",
       "      <td>to be</td>\n",
       "      <td>574</td>\n",
       "    </tr>\n",
       "    <tr>\n",
       "      <th>3</th>\n",
       "      <td>Emma</td>\n",
       "      <td>of the</td>\n",
       "      <td>524</td>\n",
       "    </tr>\n",
       "    <tr>\n",
       "      <th>4</th>\n",
       "      <td>Mansfield Park</td>\n",
       "      <td>in the</td>\n",
       "      <td>520</td>\n",
       "    </tr>\n",
       "  </tbody>\n",
       "</table>\n",
       "</div>"
      ],
      "text/plain": [
       "             book  bigram    n\n",
       "0  Mansfield Park  of the  708\n",
       "1  Mansfield Park   to be  582\n",
       "2            Emma   to be  574\n",
       "3            Emma  of the  524\n",
       "4  Mansfield Park  in the  520"
      ]
     },
     "execution_count": 9,
     "metadata": {},
     "output_type": "execute_result"
    }
   ],
   "source": [
    "bigram_counts.head()  # Same data we had in R"
   ]
  },
  {
   "cell_type": "code",
   "execution_count": 12,
   "metadata": {},
   "outputs": [],
   "source": [
    "# Run tidylopy:\n",
    "# Output gives you more than R one, but that's easily fixed, just subset to cols you want\n",
    "bigram_log_odds_py = tidylopy.tidylopy.get_weighted_log_odds(bigram_counts, 'book', 'bigram', 'n')"
   ]
  },
  {
   "cell_type": "markdown",
   "metadata": {},
   "source": [
    "They are the same!"
   ]
  },
  {
   "cell_type": "code",
   "execution_count": 15,
   "metadata": {},
   "outputs": [
    {
     "data": {
      "text/html": [
       "<div>\n",
       "<style scoped>\n",
       "    .dataframe tbody tr th:only-of-type {\n",
       "        vertical-align: middle;\n",
       "    }\n",
       "\n",
       "    .dataframe tbody tr th {\n",
       "        vertical-align: top;\n",
       "    }\n",
       "\n",
       "    .dataframe thead th {\n",
       "        text-align: right;\n",
       "    }\n",
       "</style>\n",
       "<table border=\"1\" class=\"dataframe\">\n",
       "  <thead>\n",
       "    <tr style=\"text-align: right;\">\n",
       "      <th></th>\n",
       "      <th>book</th>\n",
       "      <th>bigram</th>\n",
       "      <th>n</th>\n",
       "      <th>log_odds_weighted</th>\n",
       "    </tr>\n",
       "  </thead>\n",
       "  <tbody>\n",
       "    <tr>\n",
       "      <th>91</th>\n",
       "      <td>Emma</td>\n",
       "      <td>any thing</td>\n",
       "      <td>150</td>\n",
       "      <td>13.310539</td>\n",
       "    </tr>\n",
       "    <tr>\n",
       "      <th>2050</th>\n",
       "      <td>Northanger Abbey</td>\n",
       "      <td>pump room</td>\n",
       "      <td>23</td>\n",
       "      <td>9.319514</td>\n",
       "    </tr>\n",
       "    <tr>\n",
       "      <th>514</th>\n",
       "      <td>Sense &amp; Sensibility</td>\n",
       "      <td>any thing</td>\n",
       "      <td>58</td>\n",
       "      <td>9.171456</td>\n",
       "    </tr>\n",
       "    <tr>\n",
       "      <th>2166</th>\n",
       "      <td>Northanger Abbey</td>\n",
       "      <td>the pump</td>\n",
       "      <td>22</td>\n",
       "      <td>9.114644</td>\n",
       "    </tr>\n",
       "    <tr>\n",
       "      <th>2475</th>\n",
       "      <td>Northanger Abbey</td>\n",
       "      <td>the abbey</td>\n",
       "      <td>20</td>\n",
       "      <td>8.690433</td>\n",
       "    </tr>\n",
       "  </tbody>\n",
       "</table>\n",
       "</div>"
      ],
      "text/plain": [
       "                     book     bigram    n  log_odds_weighted\n",
       "91                   Emma  any thing  150          13.310539\n",
       "2050     Northanger Abbey  pump room   23           9.319514\n",
       "514   Sense & Sensibility  any thing   58           9.171456\n",
       "2166     Northanger Abbey   the pump   22           9.114644\n",
       "2475     Northanger Abbey  the abbey   20           8.690433"
      ]
     },
     "execution_count": 15,
     "metadata": {},
     "output_type": "execute_result"
    }
   ],
   "source": [
    "# Python results\n",
    "bigram_log_odds_py.head()[['book', 'bigram', 'n', 'log_odds_weighted']]"
   ]
  },
  {
   "cell_type": "code",
   "execution_count": 16,
   "metadata": {},
   "outputs": [
    {
     "data": {
      "text/html": [
       "<div>\n",
       "<style scoped>\n",
       "    .dataframe tbody tr th:only-of-type {\n",
       "        vertical-align: middle;\n",
       "    }\n",
       "\n",
       "    .dataframe tbody tr th {\n",
       "        vertical-align: top;\n",
       "    }\n",
       "\n",
       "    .dataframe thead th {\n",
       "        text-align: right;\n",
       "    }\n",
       "</style>\n",
       "<table border=\"1\" class=\"dataframe\">\n",
       "  <thead>\n",
       "    <tr style=\"text-align: right;\">\n",
       "      <th></th>\n",
       "      <th>book</th>\n",
       "      <th>bigram</th>\n",
       "      <th>n</th>\n",
       "      <th>log_odds_weighted</th>\n",
       "    </tr>\n",
       "  </thead>\n",
       "  <tbody>\n",
       "    <tr>\n",
       "      <th>0</th>\n",
       "      <td>Emma</td>\n",
       "      <td>any thing</td>\n",
       "      <td>150</td>\n",
       "      <td>13.310539</td>\n",
       "    </tr>\n",
       "    <tr>\n",
       "      <th>1</th>\n",
       "      <td>Northanger Abbey</td>\n",
       "      <td>pump room</td>\n",
       "      <td>23</td>\n",
       "      <td>9.319514</td>\n",
       "    </tr>\n",
       "    <tr>\n",
       "      <th>2</th>\n",
       "      <td>Sense &amp; Sensibility</td>\n",
       "      <td>any thing</td>\n",
       "      <td>58</td>\n",
       "      <td>9.171456</td>\n",
       "    </tr>\n",
       "    <tr>\n",
       "      <th>3</th>\n",
       "      <td>Northanger Abbey</td>\n",
       "      <td>the pump</td>\n",
       "      <td>22</td>\n",
       "      <td>9.114644</td>\n",
       "    </tr>\n",
       "    <tr>\n",
       "      <th>4</th>\n",
       "      <td>Northanger Abbey</td>\n",
       "      <td>the abbey</td>\n",
       "      <td>20</td>\n",
       "      <td>8.690433</td>\n",
       "    </tr>\n",
       "  </tbody>\n",
       "</table>\n",
       "</div>"
      ],
      "text/plain": [
       "                  book     bigram    n  log_odds_weighted\n",
       "0                 Emma  any thing  150          13.310539\n",
       "1     Northanger Abbey  pump room   23           9.319514\n",
       "2  Sense & Sensibility  any thing   58           9.171456\n",
       "3     Northanger Abbey   the pump   22           9.114644\n",
       "4     Northanger Abbey  the abbey   20           8.690433"
      ]
     },
     "execution_count": 16,
     "metadata": {},
     "output_type": "execute_result"
    }
   ],
   "source": [
    "# What we got in R from bind_log_odds\n",
    "bigram_log_odds_r.head()"
   ]
  },
  {
   "cell_type": "code",
   "execution_count": null,
   "metadata": {},
   "outputs": [],
   "source": []
  }
 ],
 "metadata": {
  "interpreter": {
   "hash": "52ca0d4ea4155daa85b2d587b36ff4da7b03db70d296c62e4784b362d9311176"
  },
  "kernelspec": {
   "display_name": "Python 3.9.7 ('tidylopy')",
   "language": "python",
   "name": "python3"
  },
  "language_info": {
   "codemirror_mode": {
    "name": "ipython",
    "version": 3
   },
   "file_extension": ".py",
   "mimetype": "text/x-python",
   "name": "python",
   "nbconvert_exporter": "python",
   "pygments_lexer": "ipython3",
   "version": "3.9.7"
  },
  "orig_nbformat": 4
 },
 "nbformat": 4,
 "nbformat_minor": 2
}
